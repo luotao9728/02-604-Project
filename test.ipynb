{
 "cells": [
  {
   "cell_type": "code",
   "execution_count": null,
   "outputs": [],
   "source": [
    "import os\n",
    "import pandas as pd\n",
    "# input folder that contains all sample sheets\n",
    "# output tsv that contains merged data\n",
    "def merge_sample_sheet(filepath):\n",
    "    files = os.listdir(filepath)\n",
    "    df = pd.DataFrame()\n",
    "    for file in files:\n",
    "        df = pd.concat([df, pd.read_csv(filepath + '\\\\' + file, sep='\\t')])\n",
    "    df.to_csv('merged_sample_sheet.tsv', sep='\\t', index=False)\n",
    "    return df\n",
    "\n",
    "merge_sample_sheet('sample_sheet')"
   ],
   "metadata": {
    "collapsed": false,
    "pycharm": {
     "name": "#%%\n"
    }
   }
  },
  {
   "cell_type": "code",
   "execution_count": 11,
   "outputs": [],
   "source": [
    "import pandas as pd\n",
    "import os, sys\n",
    "\n",
    "class data_cleanup():\n",
    "    def __init__(self):\n",
    "        # filename should be the same as the project ID (e.g. KICH)\n",
    "        # filename = sys.argv[0]\n",
    "        filename = 'KICH'\n",
    "        file_list = self.get_dir_list(filename)\n",
    "        df = self.combine_df(file_list)\n",
    "        df = self.rename_col(df)\n",
    "        df.to_csv(filename + '.tsv', sep='\\t', index=False)\n",
    "\n",
    "    def get_dir_list(self, filename):\n",
    "        file_list = []\n",
    "        for file in ['NORMAL', 'CANCER']:\n",
    "            new_filename1 = filename + '/' + file + '/' + os.listdir(filename + '/' + file)[0]\n",
    "            dir = os.listdir(new_filename1)\n",
    "            for i in range(len(dir)):\n",
    "                new_filename2 = new_filename1 + '/' + dir[i] + '/'\n",
    "                new_filename2 += os.listdir(new_filename2)[0]\n",
    "                if new_filename2[-3:] == 'tsv':\n",
    "                    file_list.append(new_filename2)\n",
    "        return file_list\n",
    "\n",
    "    def read_file(self, file):\n",
    "        df = pd.read_csv(file,\n",
    "                         sep='\\t',\n",
    "                         skiprows=[0,2,3,4,5],\n",
    "                         usecols=['gene_id', 'gene_name', 'unstranded'])\n",
    "        file_name = file.split('/')[-1]\n",
    "        df = df.rename(columns={'unstranded': file_name})\n",
    "        return df\n",
    "\n",
    "    def combine_df(self, file_list):\n",
    "        df = self.read_file(file_list[0])\n",
    "        for dir in file_list[1:]:\n",
    "            df = pd.merge(df, self.read_file(dir), on=['gene_id', 'gene_name'], how='left')\n",
    "        return df\n",
    "\n",
    "    def rename_col(self, df):\n",
    "        sample_sheet = pd.read_csv('merged_sample_sheet.tsv',\n",
    "                                   sep='\\t',\n",
    "                                   usecols=['File Name', 'Sample ID'])\n",
    "        file_names = df.columns[2:]\n",
    "        rename_dict = {}\n",
    "        for file_name in file_names:\n",
    "            match = list(sample_sheet.loc[sample_sheet['File Name'] == file_name]['Sample ID'])\n",
    "            if len(match) != 0:\n",
    "                rename_dict[file_name] = match[0]\n",
    "        df = df.rename(columns=rename_dict)\n",
    "        return df\n",
    "\n",
    "if __name__ == \"__main__\":\n",
    "    data_cleanup()"
   ],
   "metadata": {
    "collapsed": false,
    "pycharm": {
     "name": "#%%\n"
    }
   }
  },
  {
   "cell_type": "code",
   "execution_count": null,
   "outputs": [],
   "source": [],
   "metadata": {
    "collapsed": false,
    "pycharm": {
     "name": "#%%\n"
    }
   }
  }
 ],
 "metadata": {
  "kernelspec": {
   "display_name": "Python 3",
   "language": "python",
   "name": "python3"
  },
  "language_info": {
   "codemirror_mode": {
    "name": "ipython",
    "version": 2
   },
   "file_extension": ".py",
   "mimetype": "text/x-python",
   "name": "python",
   "nbconvert_exporter": "python",
   "pygments_lexer": "ipython2",
   "version": "2.7.6"
  }
 },
 "nbformat": 4,
 "nbformat_minor": 0
}