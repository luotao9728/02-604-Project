{
 "cells": [
  {
   "cell_type": "code",
   "execution_count": 4,
   "outputs": [
    {
     "data": {
      "text/plain": "              gene_id gene_name       gene_type  unstranded  stranded_first  \\\n0  ENSG00000000003.15    TSPAN6  protein_coding        3085            1533   \n1   ENSG00000000005.6      TNMD  protein_coding           0               0   \n2  ENSG00000000419.13      DPM1  protein_coding        1896             968   \n3  ENSG00000000457.14     SCYL3  protein_coding         493             373   \n4  ENSG00000000460.17  C1orf112  protein_coding         107             202   \n5  ENSG00000000938.13       FGR  protein_coding         624             306   \n6  ENSG00000000971.16       CFH  protein_coding         935             462   \n7  ENSG00000001036.14     FUCA2  protein_coding        3175            2306   \n8  ENSG00000001084.13      GCLC  protein_coding        1762            1018   \n9  ENSG00000001167.14      NFYA  protein_coding        1128             608   \n\n   stranded_second  tpm_unstranded  fpkm_unstranded  fpkm_uq_unstranded  \n0             1552         28.1546          12.1432             14.1998  \n1                0          0.0000           0.0000              0.0000  \n2              928         65.0277          28.0468             32.7968  \n3              366          2.9651           1.2789              1.4954  \n4              201          0.7420           0.3200              0.3742  \n5              318          7.6380           3.2943              3.8522  \n6              473          4.8504           2.0920              2.4463  \n7             2350         46.5752          20.0881             23.4902  \n8             1020          8.4638           3.6505              4.2687  \n9              625         12.2529           5.2847              6.1798  ",
      "text/html": "<div>\n<style scoped>\n    .dataframe tbody tr th:only-of-type {\n        vertical-align: middle;\n    }\n\n    .dataframe tbody tr th {\n        vertical-align: top;\n    }\n\n    .dataframe thead th {\n        text-align: right;\n    }\n</style>\n<table border=\"1\" class=\"dataframe\">\n  <thead>\n    <tr style=\"text-align: right;\">\n      <th></th>\n      <th>gene_id</th>\n      <th>gene_name</th>\n      <th>gene_type</th>\n      <th>unstranded</th>\n      <th>stranded_first</th>\n      <th>stranded_second</th>\n      <th>tpm_unstranded</th>\n      <th>fpkm_unstranded</th>\n      <th>fpkm_uq_unstranded</th>\n    </tr>\n  </thead>\n  <tbody>\n    <tr>\n      <th>0</th>\n      <td>ENSG00000000003.15</td>\n      <td>TSPAN6</td>\n      <td>protein_coding</td>\n      <td>3085</td>\n      <td>1533</td>\n      <td>1552</td>\n      <td>28.1546</td>\n      <td>12.1432</td>\n      <td>14.1998</td>\n    </tr>\n    <tr>\n      <th>1</th>\n      <td>ENSG00000000005.6</td>\n      <td>TNMD</td>\n      <td>protein_coding</td>\n      <td>0</td>\n      <td>0</td>\n      <td>0</td>\n      <td>0.0000</td>\n      <td>0.0000</td>\n      <td>0.0000</td>\n    </tr>\n    <tr>\n      <th>2</th>\n      <td>ENSG00000000419.13</td>\n      <td>DPM1</td>\n      <td>protein_coding</td>\n      <td>1896</td>\n      <td>968</td>\n      <td>928</td>\n      <td>65.0277</td>\n      <td>28.0468</td>\n      <td>32.7968</td>\n    </tr>\n    <tr>\n      <th>3</th>\n      <td>ENSG00000000457.14</td>\n      <td>SCYL3</td>\n      <td>protein_coding</td>\n      <td>493</td>\n      <td>373</td>\n      <td>366</td>\n      <td>2.9651</td>\n      <td>1.2789</td>\n      <td>1.4954</td>\n    </tr>\n    <tr>\n      <th>4</th>\n      <td>ENSG00000000460.17</td>\n      <td>C1orf112</td>\n      <td>protein_coding</td>\n      <td>107</td>\n      <td>202</td>\n      <td>201</td>\n      <td>0.7420</td>\n      <td>0.3200</td>\n      <td>0.3742</td>\n    </tr>\n    <tr>\n      <th>5</th>\n      <td>ENSG00000000938.13</td>\n      <td>FGR</td>\n      <td>protein_coding</td>\n      <td>624</td>\n      <td>306</td>\n      <td>318</td>\n      <td>7.6380</td>\n      <td>3.2943</td>\n      <td>3.8522</td>\n    </tr>\n    <tr>\n      <th>6</th>\n      <td>ENSG00000000971.16</td>\n      <td>CFH</td>\n      <td>protein_coding</td>\n      <td>935</td>\n      <td>462</td>\n      <td>473</td>\n      <td>4.8504</td>\n      <td>2.0920</td>\n      <td>2.4463</td>\n    </tr>\n    <tr>\n      <th>7</th>\n      <td>ENSG00000001036.14</td>\n      <td>FUCA2</td>\n      <td>protein_coding</td>\n      <td>3175</td>\n      <td>2306</td>\n      <td>2350</td>\n      <td>46.5752</td>\n      <td>20.0881</td>\n      <td>23.4902</td>\n    </tr>\n    <tr>\n      <th>8</th>\n      <td>ENSG00000001084.13</td>\n      <td>GCLC</td>\n      <td>protein_coding</td>\n      <td>1762</td>\n      <td>1018</td>\n      <td>1020</td>\n      <td>8.4638</td>\n      <td>3.6505</td>\n      <td>4.2687</td>\n    </tr>\n    <tr>\n      <th>9</th>\n      <td>ENSG00000001167.14</td>\n      <td>NFYA</td>\n      <td>protein_coding</td>\n      <td>1128</td>\n      <td>608</td>\n      <td>625</td>\n      <td>12.2529</td>\n      <td>5.2847</td>\n      <td>6.1798</td>\n    </tr>\n  </tbody>\n</table>\n</div>"
     },
     "execution_count": 4,
     "metadata": {},
     "output_type": "execute_result"
    }
   ],
   "source": [
    "import pandas as pd\n",
    "\n",
    "def read_file(filepath):\n",
    "    df = pd.read_csv(filepath, sep='\\t', skiprows=[0,2,3,4,5])\n",
    "    return df\n",
    "\n",
    "df = read_file('KICH/CANCER/gdc_download_20230301_212055.202248/0ba21ef5-0829-422e-a674-d3817498c333/4868e8fc-e045-475a-a81d-ef43eabb7066.rna_seq.augmented_star_gene_counts.tsv')\n",
    "df.head(10)"
   ],
   "metadata": {
    "collapsed": false,
    "pycharm": {
     "name": "#%%\n"
    }
   }
  },
  {
   "cell_type": "code",
   "execution_count": null,
   "outputs": [],
   "source": [],
   "metadata": {
    "collapsed": false,
    "pycharm": {
     "name": "#%%\n"
    }
   }
  }
 ],
 "metadata": {
  "kernelspec": {
   "display_name": "Python 3",
   "language": "python",
   "name": "python3"
  },
  "language_info": {
   "codemirror_mode": {
    "name": "ipython",
    "version": 2
   },
   "file_extension": ".py",
   "mimetype": "text/x-python",
   "name": "python",
   "nbconvert_exporter": "python",
   "pygments_lexer": "ipython2",
   "version": "2.7.6"
  }
 },
 "nbformat": 4,
 "nbformat_minor": 0
}