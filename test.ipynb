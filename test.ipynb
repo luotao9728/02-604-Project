{
 "cells": [
  {
   "cell_type": "code",
   "execution_count": 7,
   "outputs": [],
   "source": [
    "import os\n",
    "import pandas as pd\n",
    "# input folder that contains all sample sheets\n",
    "# output tsv that contains merged data\n",
    "def merge_sample_sheet(filepath):\n",
    "    files = os.listdir(filepath)\n",
    "    df = pd.DataFrame()\n",
    "    for file in files:\n",
    "        df = pd.concat([df, pd.read_csv(filepath + '\\\\' + file, sep='\\t')])\n",
    "    df.to_csv('merged_sample_sheet.tsv', sep='\\t', index=False)\n",
    "    return df\n",
    "\n",
    "merge_sample_sheet('sample_sheet')"
   ],
   "metadata": {
    "collapsed": false,
    "pycharm": {
     "name": "#%%\n"
    }
   }
  },
  {
   "cell_type": "code",
   "execution_count": 27,
   "outputs": [
    {
     "name": "stdout",
     "output_type": "stream",
     "text": [
      "['KICH/CANCER/gdc_download_20230301_212055.202248/00ddf8c2-039f-409f-a2ed-b29e18395dd4/f07b7c4c-5f30-4c51-9eb1-4f873ad49c56.rna_seq.augmented_star_gene_counts.tsv', 'KICH/CANCER/gdc_download_20230301_212055.202248/0161b0d1-3fb0-45e8-bed0-df99aacaaac1/718f1665-6b2c-4d07-9dc5-93ca8e5c2bb0.rna_seq.augmented_star_gene_counts.tsv', 'KICH/CANCER/gdc_download_20230301_212055.202248/05f5d36d-3f71-4d9c-9668-7dce66f48cd9/a8440ee0-f9a0-4638-9be1-ae0800f18e32.rna_seq.augmented_star_gene_counts.tsv', 'KICH/CANCER/gdc_download_20230301_212055.202248/07bbb0ce-057f-4ce7-aeb5-74c924bf6ab5/c562d5f0-f474-42d3-9b04-57189e6df109.rna_seq.augmented_star_gene_counts.tsv', 'KICH/CANCER/gdc_download_20230301_212055.202248/08bd2f5a-9543-45b6-a7a3-c58f3d3ebfb6/9b667b7c-5316-4d80-bd69-2866dd0dcdcf.rna_seq.augmented_star_gene_counts.tsv', 'KICH/CANCER/gdc_download_20230301_212055.202248/09a25765-76d8-4d2a-9051-facbec6ba166/1b52b9e6-644f-43d5-842d-3412cbd40837.rna_seq.augmented_star_gene_counts.tsv', 'KICH/CANCER/gdc_download_20230301_212055.202248/0ba21ef5-0829-422e-a674-d3817498c333/4868e8fc-e045-475a-a81d-ef43eabb7066.rna_seq.augmented_star_gene_counts.tsv', 'KICH/CANCER/gdc_download_20230301_212055.202248/0e3f97a7-63b5-4d66-bc64-1cfba1a7c32e/2b3f591a-b826-4a4e-999e-1cf50172e56d.rna_seq.augmented_star_gene_counts.tsv', 'KICH/CANCER/gdc_download_20230301_212055.202248/0e778a8e-d8eb-4357-aaac-e68f95b795f4/e7298d30-d154-41d1-a962-766996a80c7d.rna_seq.augmented_star_gene_counts.tsv', 'KICH/NORMAL/gdc_download_20230301_212610.470668/0c084571-72e0-4592-974e-a00d95e3a6a5/648cd526-57df-4ee8-a48e-02babbe7e5c6.rna_seq.augmented_star_gene_counts.tsv', 'KICH/NORMAL/gdc_download_20230301_212610.470668/1422e1e9-e6d1-4965-aca3-95567b0e66af/0e06eaab-ec01-4b30-be69-d476bf070bb5.rna_seq.augmented_star_gene_counts.tsv', 'KICH/NORMAL/gdc_download_20230301_212610.470668/218d3c02-be52-4545-9390-8dd105c080a2/edd29e04-9693-4133-9f00-527ab1063565.rna_seq.augmented_star_gene_counts.tsv', 'KICH/NORMAL/gdc_download_20230301_212610.470668/2ad0503b-3613-40d4-9698-23e853e73902/8c99a8ad-7196-4009-80d9-79f78b75b3ca.rna_seq.augmented_star_gene_counts.tsv', 'KICH/NORMAL/gdc_download_20230301_212610.470668/2e764b0a-f1c2-4e9c-9a16-95a0cf884754/c0eb9d16-2577-4c4d-a2e7-b34747e38aea.rna_seq.augmented_star_gene_counts.tsv', 'KICH/NORMAL/gdc_download_20230301_212610.470668/3dfa2b7f-ea24-4c0e-8fc7-6177af44d882/0a0b75ab-0e92-4d25-abd0-5ebc075b432b.rna_seq.augmented_star_gene_counts.tsv', 'KICH/NORMAL/gdc_download_20230301_212610.470668/3feb57be-de34-4e5a-b224-b00444505159/c5b1e632-1936-4da0-b76f-c74d64be1979.rna_seq.augmented_star_gene_counts.tsv', 'KICH/NORMAL/gdc_download_20230301_212610.470668/4cb88230-a7c0-4ced-a257-45b7f1163af7/06b24786-bda3-4dde-a750-c542c30c5c9a.rna_seq.augmented_star_gene_counts.tsv', 'KICH/NORMAL/gdc_download_20230301_212610.470668/634895fe-6325-4d91-a9b6-037c3f0e2aea/a88a32c8-8932-4823-8d6a-e63dc70580d9.rna_seq.augmented_star_gene_counts.tsv']\n"
     ]
    }
   ],
   "source": [
    "import pandas as pd\n",
    "import os, sys\n",
    "\n",
    "class data_cleanup():\n",
    "    def __init__(self):\n",
    "        # filename should be the same as the project ID (e.g. KICH)\n",
    "        # filename = sys.argv[0]\n",
    "        filename = 'KICH'\n",
    "        file_dict = self.get_dir_list(filename)\n",
    "        df = self.combine_df(file_dict)\n",
    "        df.to_csv(filename + '.tsv', sep='\\t')\n",
    "\n",
    "    def get_dir_list(self, filename):\n",
    "        file_list = []\n",
    "        for file in ['CANCER', 'NORMAL']:\n",
    "            new_filename1 = filename + '/' + file + '/' + os.listdir(filename + '/' + file)[0]\n",
    "            dir = os.listdir(new_filename1)\n",
    "            for i in range(1, 10):\n",
    "                new_filename2 = new_filename1 + '/' + dir[i] + '/'\n",
    "                new_filename2 += os.listdir(new_filename2)[0]\n",
    "                file_list.append(new_filename2)\n",
    "        return file_list\n",
    "\n",
    "    def read_file(self, filepath):\n",
    "        df = pd.read_csv(filepath, sep='\\t', skiprows=[0,2,3,4,5], index_col=False)\n",
    "        components = filepath.split('/')\n",
    "        df['sample_type'] = components[1]\n",
    "        df['tumor_name'] = components[0]\n",
    "        return df\n",
    "\n",
    "    def combine_df(self, file_list):\n",
    "        df = pd.DataFrame()\n",
    "        for dir in file_list:\n",
    "            df = pd.concat([df, self.read_file(dir)])\n",
    "        return df\n",
    "\n",
    "if __name__ == \"__main__\":\n",
    "    data_cleanup()"
   ],
   "metadata": {
    "collapsed": false,
    "pycharm": {
     "name": "#%%\n"
    }
   }
  },
  {
   "cell_type": "code",
   "execution_count": null,
   "outputs": [],
   "source": [],
   "metadata": {
    "collapsed": false,
    "pycharm": {
     "name": "#%%\n"
    }
   }
  }
 ],
 "metadata": {
  "kernelspec": {
   "display_name": "Python 3",
   "language": "python",
   "name": "python3"
  },
  "language_info": {
   "codemirror_mode": {
    "name": "ipython",
    "version": 2
   },
   "file_extension": ".py",
   "mimetype": "text/x-python",
   "name": "python",
   "nbconvert_exporter": "python",
   "pygments_lexer": "ipython2",
   "version": "2.7.6"
  }
 },
 "nbformat": 4,
 "nbformat_minor": 0
}