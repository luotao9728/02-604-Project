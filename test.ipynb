{
 "cells": [
  {
   "cell_type": "code",
   "execution_count": 27,
   "outputs": [
    {
     "name": "stdout",
     "output_type": "stream",
     "text": [
      "['KICH/CANCER/gdc_download_20230301_212055.202248/00ddf8c2-039f-409f-a2ed-b29e18395dd4/f07b7c4c-5f30-4c51-9eb1-4f873ad49c56.rna_seq.augmented_star_gene_counts.tsv', 'KICH/CANCER/gdc_download_20230301_212055.202248/0161b0d1-3fb0-45e8-bed0-df99aacaaac1/718f1665-6b2c-4d07-9dc5-93ca8e5c2bb0.rna_seq.augmented_star_gene_counts.tsv', 'KICH/CANCER/gdc_download_20230301_212055.202248/05f5d36d-3f71-4d9c-9668-7dce66f48cd9/a8440ee0-f9a0-4638-9be1-ae0800f18e32.rna_seq.augmented_star_gene_counts.tsv', 'KICH/CANCER/gdc_download_20230301_212055.202248/07bbb0ce-057f-4ce7-aeb5-74c924bf6ab5/c562d5f0-f474-42d3-9b04-57189e6df109.rna_seq.augmented_star_gene_counts.tsv', 'KICH/CANCER/gdc_download_20230301_212055.202248/08bd2f5a-9543-45b6-a7a3-c58f3d3ebfb6/9b667b7c-5316-4d80-bd69-2866dd0dcdcf.rna_seq.augmented_star_gene_counts.tsv', 'KICH/CANCER/gdc_download_20230301_212055.202248/09a25765-76d8-4d2a-9051-facbec6ba166/1b52b9e6-644f-43d5-842d-3412cbd40837.rna_seq.augmented_star_gene_counts.tsv', 'KICH/CANCER/gdc_download_20230301_212055.202248/0ba21ef5-0829-422e-a674-d3817498c333/4868e8fc-e045-475a-a81d-ef43eabb7066.rna_seq.augmented_star_gene_counts.tsv', 'KICH/CANCER/gdc_download_20230301_212055.202248/0e3f97a7-63b5-4d66-bc64-1cfba1a7c32e/2b3f591a-b826-4a4e-999e-1cf50172e56d.rna_seq.augmented_star_gene_counts.tsv', 'KICH/CANCER/gdc_download_20230301_212055.202248/0e778a8e-d8eb-4357-aaac-e68f95b795f4/e7298d30-d154-41d1-a962-766996a80c7d.rna_seq.augmented_star_gene_counts.tsv', 'KICH/NORMAL/gdc_download_20230301_212610.470668/0c084571-72e0-4592-974e-a00d95e3a6a5/648cd526-57df-4ee8-a48e-02babbe7e5c6.rna_seq.augmented_star_gene_counts.tsv', 'KICH/NORMAL/gdc_download_20230301_212610.470668/1422e1e9-e6d1-4965-aca3-95567b0e66af/0e06eaab-ec01-4b30-be69-d476bf070bb5.rna_seq.augmented_star_gene_counts.tsv', 'KICH/NORMAL/gdc_download_20230301_212610.470668/218d3c02-be52-4545-9390-8dd105c080a2/edd29e04-9693-4133-9f00-527ab1063565.rna_seq.augmented_star_gene_counts.tsv', 'KICH/NORMAL/gdc_download_20230301_212610.470668/2ad0503b-3613-40d4-9698-23e853e73902/8c99a8ad-7196-4009-80d9-79f78b75b3ca.rna_seq.augmented_star_gene_counts.tsv', 'KICH/NORMAL/gdc_download_20230301_212610.470668/2e764b0a-f1c2-4e9c-9a16-95a0cf884754/c0eb9d16-2577-4c4d-a2e7-b34747e38aea.rna_seq.augmented_star_gene_counts.tsv', 'KICH/NORMAL/gdc_download_20230301_212610.470668/3dfa2b7f-ea24-4c0e-8fc7-6177af44d882/0a0b75ab-0e92-4d25-abd0-5ebc075b432b.rna_seq.augmented_star_gene_counts.tsv', 'KICH/NORMAL/gdc_download_20230301_212610.470668/3feb57be-de34-4e5a-b224-b00444505159/c5b1e632-1936-4da0-b76f-c74d64be1979.rna_seq.augmented_star_gene_counts.tsv', 'KICH/NORMAL/gdc_download_20230301_212610.470668/4cb88230-a7c0-4ced-a257-45b7f1163af7/06b24786-bda3-4dde-a750-c542c30c5c9a.rna_seq.augmented_star_gene_counts.tsv', 'KICH/NORMAL/gdc_download_20230301_212610.470668/634895fe-6325-4d91-a9b6-037c3f0e2aea/a88a32c8-8932-4823-8d6a-e63dc70580d9.rna_seq.augmented_star_gene_counts.tsv']\n"
     ]
    }
   ],
   "source": [
    "import pandas as pd\n",
    "import os, sys\n",
    "\n",
    "class data_cleanup():\n",
    "    def __init__(self):\n",
    "        # filename should be the same as the project ID (e.g. KICH)\n",
    "        # filename = sys.argv[0]\n",
    "        filename = 'KICH'\n",
    "        file_dict = self.get_dir_list(filename)\n",
    "        df = self.combine_df(file_dict)\n",
    "        df.to_csv(filename + '.tsv', sep='\\t')\n",
    "\n",
    "    def get_dir_list(self, filename):\n",
    "        file_list = []\n",
    "        for file in ['CANCER', 'NORMAL']:\n",
    "            new_filename1 = filename + '/' + file + '/' + os.listdir(filename + '/' + file)[0]\n",
    "            dir = os.listdir(new_filename1)\n",
    "            for i in range(1, 10):\n",
    "                new_filename2 = new_filename1 + '/' + dir[i] + '/'\n",
    "                new_filename2 += os.listdir(new_filename2)[0]\n",
    "                file_list.append(new_filename2)\n",
    "        return file_list\n",
    "\n",
    "    def read_file(self, filepath):\n",
    "        df = pd.read_csv(filepath, sep='\\t', skiprows=[0,2,3,4,5], index_col=False)\n",
    "        components = filepath.split('/')\n",
    "        df['sample_type'] = components[1]\n",
    "        df['tumor_name'] = components[0]\n",
    "        return df\n",
    "\n",
    "    def combine_df(self, file_list):\n",
    "        df = pd.DataFrame()\n",
    "        for dir in file_list:\n",
    "            df = pd.concat([df, self.read_file(dir)])\n",
    "        return df\n",
    "\n",
    "if __name__ == \"__main__\":\n",
    "    data_cleanup()"
   ],
   "metadata": {
    "collapsed": false,
    "pycharm": {
     "name": "#%%\n"
    }
   }
  },
  {
   "cell_type": "code",
   "execution_count": 28,
   "outputs": [],
   "source": [
    "df = pd.read_csv('KICH.tsv', sep='\\t')"
   ],
   "metadata": {
    "collapsed": false,
    "pycharm": {
     "name": "#%%\n"
    }
   }
  },
  {
   "cell_type": "code",
   "execution_count": 29,
   "outputs": [
    {
     "data": {
      "text/plain": "   Unnamed: 0             gene_id gene_name       gene_type  unstranded  \\\n0           0  ENSG00000000003.15    TSPAN6  protein_coding        1107   \n1           1   ENSG00000000005.6      TNMD  protein_coding           0   \n2           2  ENSG00000000419.13      DPM1  protein_coding         923   \n3           3  ENSG00000000457.14     SCYL3  protein_coding         190   \n4           4  ENSG00000000460.17  C1orf112  protein_coding          47   \n5           5  ENSG00000000938.13       FGR  protein_coding         296   \n6           6  ENSG00000000971.16       CFH  protein_coding         332   \n7           7  ENSG00000001036.14     FUCA2  protein_coding        1314   \n8           8  ENSG00000001084.13      GCLC  protein_coding        1154   \n9           9  ENSG00000001167.14      NFYA  protein_coding         556   \n\n   stranded_first  stranded_second  tpm_unstranded  fpkm_unstranded  \\\n0             577              530          8.2367           5.1704   \n1               0                0          0.0000           0.0000   \n2             469              454         25.8092          16.2010   \n3             145              176          0.9317           0.5848   \n4             104               82          0.2657           0.1668   \n5             147              150          2.9539           1.8542   \n6             154              178          1.4042           0.8814   \n7             896              923         15.7151           9.8648   \n8             647              655          4.5194           2.8369   \n9             310              295          4.9240           3.0909   \n\n   fpkm_uq_unstranded sample_type tumor_name  \n0              7.8826      CANCER       KICH  \n1              0.0000      CANCER       KICH  \n2             24.6997      CANCER       KICH  \n3              0.8916      CANCER       KICH  \n4              0.2543      CANCER       KICH  \n5              2.8269      CANCER       KICH  \n6              1.3438      CANCER       KICH  \n7             15.0395      CANCER       KICH  \n8              4.3251      CANCER       KICH  \n9              4.7123      CANCER       KICH  ",
      "text/html": "<div>\n<style scoped>\n    .dataframe tbody tr th:only-of-type {\n        vertical-align: middle;\n    }\n\n    .dataframe tbody tr th {\n        vertical-align: top;\n    }\n\n    .dataframe thead th {\n        text-align: right;\n    }\n</style>\n<table border=\"1\" class=\"dataframe\">\n  <thead>\n    <tr style=\"text-align: right;\">\n      <th></th>\n      <th>Unnamed: 0</th>\n      <th>gene_id</th>\n      <th>gene_name</th>\n      <th>gene_type</th>\n      <th>unstranded</th>\n      <th>stranded_first</th>\n      <th>stranded_second</th>\n      <th>tpm_unstranded</th>\n      <th>fpkm_unstranded</th>\n      <th>fpkm_uq_unstranded</th>\n      <th>sample_type</th>\n      <th>tumor_name</th>\n    </tr>\n  </thead>\n  <tbody>\n    <tr>\n      <th>0</th>\n      <td>0</td>\n      <td>ENSG00000000003.15</td>\n      <td>TSPAN6</td>\n      <td>protein_coding</td>\n      <td>1107</td>\n      <td>577</td>\n      <td>530</td>\n      <td>8.2367</td>\n      <td>5.1704</td>\n      <td>7.8826</td>\n      <td>CANCER</td>\n      <td>KICH</td>\n    </tr>\n    <tr>\n      <th>1</th>\n      <td>1</td>\n      <td>ENSG00000000005.6</td>\n      <td>TNMD</td>\n      <td>protein_coding</td>\n      <td>0</td>\n      <td>0</td>\n      <td>0</td>\n      <td>0.0000</td>\n      <td>0.0000</td>\n      <td>0.0000</td>\n      <td>CANCER</td>\n      <td>KICH</td>\n    </tr>\n    <tr>\n      <th>2</th>\n      <td>2</td>\n      <td>ENSG00000000419.13</td>\n      <td>DPM1</td>\n      <td>protein_coding</td>\n      <td>923</td>\n      <td>469</td>\n      <td>454</td>\n      <td>25.8092</td>\n      <td>16.2010</td>\n      <td>24.6997</td>\n      <td>CANCER</td>\n      <td>KICH</td>\n    </tr>\n    <tr>\n      <th>3</th>\n      <td>3</td>\n      <td>ENSG00000000457.14</td>\n      <td>SCYL3</td>\n      <td>protein_coding</td>\n      <td>190</td>\n      <td>145</td>\n      <td>176</td>\n      <td>0.9317</td>\n      <td>0.5848</td>\n      <td>0.8916</td>\n      <td>CANCER</td>\n      <td>KICH</td>\n    </tr>\n    <tr>\n      <th>4</th>\n      <td>4</td>\n      <td>ENSG00000000460.17</td>\n      <td>C1orf112</td>\n      <td>protein_coding</td>\n      <td>47</td>\n      <td>104</td>\n      <td>82</td>\n      <td>0.2657</td>\n      <td>0.1668</td>\n      <td>0.2543</td>\n      <td>CANCER</td>\n      <td>KICH</td>\n    </tr>\n    <tr>\n      <th>5</th>\n      <td>5</td>\n      <td>ENSG00000000938.13</td>\n      <td>FGR</td>\n      <td>protein_coding</td>\n      <td>296</td>\n      <td>147</td>\n      <td>150</td>\n      <td>2.9539</td>\n      <td>1.8542</td>\n      <td>2.8269</td>\n      <td>CANCER</td>\n      <td>KICH</td>\n    </tr>\n    <tr>\n      <th>6</th>\n      <td>6</td>\n      <td>ENSG00000000971.16</td>\n      <td>CFH</td>\n      <td>protein_coding</td>\n      <td>332</td>\n      <td>154</td>\n      <td>178</td>\n      <td>1.4042</td>\n      <td>0.8814</td>\n      <td>1.3438</td>\n      <td>CANCER</td>\n      <td>KICH</td>\n    </tr>\n    <tr>\n      <th>7</th>\n      <td>7</td>\n      <td>ENSG00000001036.14</td>\n      <td>FUCA2</td>\n      <td>protein_coding</td>\n      <td>1314</td>\n      <td>896</td>\n      <td>923</td>\n      <td>15.7151</td>\n      <td>9.8648</td>\n      <td>15.0395</td>\n      <td>CANCER</td>\n      <td>KICH</td>\n    </tr>\n    <tr>\n      <th>8</th>\n      <td>8</td>\n      <td>ENSG00000001084.13</td>\n      <td>GCLC</td>\n      <td>protein_coding</td>\n      <td>1154</td>\n      <td>647</td>\n      <td>655</td>\n      <td>4.5194</td>\n      <td>2.8369</td>\n      <td>4.3251</td>\n      <td>CANCER</td>\n      <td>KICH</td>\n    </tr>\n    <tr>\n      <th>9</th>\n      <td>9</td>\n      <td>ENSG00000001167.14</td>\n      <td>NFYA</td>\n      <td>protein_coding</td>\n      <td>556</td>\n      <td>310</td>\n      <td>295</td>\n      <td>4.9240</td>\n      <td>3.0909</td>\n      <td>4.7123</td>\n      <td>CANCER</td>\n      <td>KICH</td>\n    </tr>\n  </tbody>\n</table>\n</div>"
     },
     "execution_count": 29,
     "metadata": {},
     "output_type": "execute_result"
    }
   ],
   "source": [
    "df.head(10)"
   ],
   "metadata": {
    "collapsed": false,
    "pycharm": {
     "name": "#%%\n"
    }
   }
  },
  {
   "cell_type": "code",
   "execution_count": null,
   "outputs": [],
   "source": [],
   "metadata": {
    "collapsed": false,
    "pycharm": {
     "name": "#%%\n"
    }
   }
  }
 ],
 "metadata": {
  "kernelspec": {
   "display_name": "Python 3",
   "language": "python",
   "name": "python3"
  },
  "language_info": {
   "codemirror_mode": {
    "name": "ipython",
    "version": 2
   },
   "file_extension": ".py",
   "mimetype": "text/x-python",
   "name": "python",
   "nbconvert_exporter": "python",
   "pygments_lexer": "ipython2",
   "version": "2.7.6"
  }
 },
 "nbformat": 4,
 "nbformat_minor": 0
}